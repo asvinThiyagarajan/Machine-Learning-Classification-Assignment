{
 "cells": [
  {
   "cell_type": "code",
   "execution_count": 1,
   "id": "53e212bb-5061-41cd-8764-9a4e1377aba5",
   "metadata": {},
   "outputs": [
    {
     "name": "stdout",
     "output_type": "stream",
     "text": [
      "Fitting 5 folds for each of 120 candidates, totalling 600 fits\n",
      "The best hypertuning parameter combination for the model is :\n",
      " {'C': 1, 'gamma': 0.1, 'kernel': 'poly', 'random_state': 0}\n",
      "The confusion matrix for the model is :\n",
      " [[32  0]\n",
      " [ 0 48]]\n",
      "The best f1_weighted score is :\n",
      " 0.9906110454426058\n",
      "The roc_auc score is :\n",
      " 1.0\n",
      "The classification report for the model is :\n",
      "               precision    recall  f1-score   support\n",
      "\n",
      "           0       1.00      1.00      1.00        32\n",
      "           1       1.00      1.00      1.00        48\n",
      "\n",
      "    accuracy                           1.00        80\n",
      "   macro avg       1.00      1.00      1.00        80\n",
      "weighted avg       1.00      1.00      1.00        80\n",
      "\n"
     ]
    },
    {
     "name": "stderr",
     "output_type": "stream",
     "text": [
      "C:\\Anaconda3\\Lib\\site-packages\\sklearn\\utils\\validation.py:1143: DataConversionWarning: A column-vector y was passed when a 1d array was expected. Please change the shape of y to (n_samples, ), for example using ravel().\n",
      "  y = column_or_1d(y, warn=True)\n"
     ]
    }
   ],
   "source": [
    "#Importing Required Libraries\n",
    "import pandas as pd\n",
    "import matplotlib.pyplot as plt\n",
    "import numpy as np\n",
    "\n",
    "#Importing the dataset\n",
    "dataset=pd.read_csv(\"CKD.csv\")\n",
    "\n",
    "#Input and Output split\n",
    "independent=dataset[['age','bp','sg','al','su','rbc','pc','pcc','ba','bgr','bu','sc','sod','pot','hrmo','pcv','wc','rc','htn','dm','cad','appet','pe','ane']]\n",
    "dependent=dataset[['classification']]\n",
    "independent=pd.get_dummies(independent,drop_first=True)\n",
    "independent=independent.astype(int)\n",
    "dependent =dependent.replace({'yes': True, 'no': False})\n",
    "dependent=dependent.astype(int)\n",
    "dependent['classification'].value_counts()\n",
    "\n",
    "#Preprocessing the independent dataset\n",
    "from sklearn.preprocessing import StandardScaler\n",
    "sc_X=StandardScaler()\n",
    "independent=sc_X.fit_transform(independent)\n",
    "\n",
    "#Train and Test Split\n",
    "from sklearn.model_selection import train_test_split\n",
    "X_train,X_test,Y_train,Y_test=train_test_split(independent,dependent,test_size=0.20,random_state=0)\n",
    "\n",
    "#Model Creation\n",
    "from sklearn.model_selection import GridSearchCV\n",
    "from sklearn.svm import SVC\n",
    "param_grid = {'C': [0.01, 0.1, 1, 10, 100],'kernel': ['linear', 'rbf','sigmoid','poly'],'gamma': ['scale', 'auto', 0.001, 0.01, 0.1, 1], 'random_state': [0]}\n",
    "grid=GridSearchCV(SVC(probability=True),param_grid,refit=True,verbose=3,n_jobs=-1,scoring='f1_weighted')\n",
    "grid=grid.fit(X_train,Y_train)\n",
    "\n",
    "# Evaluation Metrics\n",
    "Y_pred=grid.predict(X_test)\n",
    "from sklearn.metrics import confusion_matrix\n",
    "cm=confusion_matrix(Y_test,Y_pred)\n",
    "from sklearn.metrics import classification_report\n",
    "clf_report=classification_report(Y_test,Y_pred)\n",
    "from sklearn.metrics import roc_auc_score\n",
    "y_pred_proba=grid.predict_proba(X_test)\n",
    "y_pred=y_pred_proba[:,1]\n",
    "roc_auc=roc_auc_score(Y_test,y_pred)\n",
    "\n",
    "best_score=grid.best_score_\n",
    "best_param=grid.best_params_\n",
    "\n",
    "print(\"The best hypertuning parameter combination for the model is :\\n\",best_param)\n",
    "\n",
    "print(\"The confusion matrix for the model is :\\n\",cm)\n",
    "\n",
    "print(\"The best f1_weighted score is :\\n\",best_score)\n",
    "\n",
    "print(\"The roc_auc score is :\\n\",roc_auc)\n",
    "\n",
    "print(\"The classification report for the model is :\\n\",clf_report)"
   ]
  },
  {
   "cell_type": "code",
   "execution_count": 2,
   "id": "6091b83b-99a7-4a0d-9fe8-1ae8f9dec86c",
   "metadata": {},
   "outputs": [
    {
     "name": "stdin",
     "output_type": "stream",
     "text": [
      "Enter age: 17\n",
      "Enter bp: 60\n",
      "Enter al: 0\n",
      "Enter su: 0\n",
      "Enter bgr: 92\n",
      "Enter bu: 32\n",
      "Enter sc: 2.1\n",
      "Enter sod: 141\n",
      "Enter pot: 4.2\n",
      "Enter hrmo: 13.9\n",
      "Enter pcv: 52\n",
      "Enter wc: 7000\n",
      "Enter rc: 4.705597\n",
      "Enter 1 if sg is b else 0: 0\n",
      "Enter 1 if sg is c else 0: 1\n",
      "Enter 1 if sg is d else 0: 0\n",
      "Enter 1 if sg is e else 0: 0\n",
      "Enter 1 if the rbc is normal else 0: 1\n",
      "Enter 1 if the pc is normal else 0: 1\n",
      "Enter 1 if the pcc is present else 0: 0\n",
      "Enter 1 if the ba is present else 0: 0\n",
      "Enter 1 if the htn is yes else 0: 0\n",
      "Enter 1 if the dm is yes else 0: 0\n",
      "Enter 1 if the cad is yes else 0: 0\n",
      "Enter 1 if the appet is yes else 0: 1\n",
      "Enter 1 if the pe is yes else 0: 0\n",
      "Enter 1 if the ane is yes else 0: 0\n"
     ]
    },
    {
     "name": "stdout",
     "output_type": "stream",
     "text": [
      "The person have chronic kidney disease\n"
     ]
    },
    {
     "name": "stderr",
     "output_type": "stream",
     "text": [
      "C:\\Anaconda3\\Lib\\site-packages\\sklearn\\base.py:439: UserWarning: X does not have valid feature names, but StandardScaler was fitted with feature names\n",
      "  warnings.warn(\n"
     ]
    }
   ],
   "source": [
    "# Save the Best Model\n",
    "import pickle\n",
    "file_name=\"CKD_Prediction_FinalMoldel.sav\"\n",
    "saved_model=pickle.dump(grid,open(\"CKD_Prediction_FinalMoldel.sav\",'wb'))\n",
    "loaded_model=pickle.load(open(\"CKD_Prediction_FinalMoldel.sav\",'rb'))\n",
    "\n",
    "# User Input\n",
    "# 'age', 'bp', 'al', 'su', 'bgr', 'bu', 'sc', 'sod', 'pot', 'hrmo', 'pcv','wc', 'rc', 'sg_b', 'sg_c', 'sg_d', 'sg_e', 'rbc_normal', 'pc_normal','pcc_present', 'ba_present', 'htn_yes', 'dm_yes', 'cad_yes','appet_yes', 'pe_yes', 'ane_yes'\n",
    "input_age=int(input(\"Enter age:\"))\n",
    "input_bp=int(input(\"Enter bp:\"))\n",
    "input_al=int(input(\"Enter al:\"))\n",
    "input_su=int(input(\"Enter su:\"))\n",
    "input_bgr=int(input(\"Enter bgr:\"))\n",
    "input_bu=int(input(\"Enter bu:\"))\n",
    "input_sc=float(input(\"Enter sc:\"))\n",
    "input_sod=int(input(\"Enter sod:\"))\n",
    "input_pot=float(input(\"Enter pot:\"))\n",
    "input_hrmo=float(input(\"Enter hrmo:\"))\n",
    "input_pcv=int(input(\"Enter pcv:\"))\n",
    "input_wc=int(input(\"Enter wc:\"))\n",
    "input_rc=float(input(\"Enter rc:\"))\n",
    "input_sg_b=int(input(\"Enter 1 if sg is b else 0:\"))\n",
    "input_sg_c=int(input(\"Enter 1 if sg is c else 0:\"))\n",
    "input_sg_d=int(input(\"Enter 1 if sg is d else 0:\"))\n",
    "input_sg_e=int(input(\"Enter 1 if sg is e else 0:\"))\n",
    "input_rbc_normal=int(input(\"Enter 1 if the rbc is normal else 0:\"))\n",
    "input_pc_normal=int(input(\"Enter 1 if the pc is normal else 0:\"))\n",
    "input_pcc_present=int(input(\"Enter 1 if the pcc is present else 0:\"))\n",
    "input_ba_present=int(input(\"Enter 1 if the ba is present else 0:\"))\n",
    "input_htn_yes=int(input(\"Enter 1 if the htn is yes else 0:\"))\n",
    "input_dm_yes=int(input(\"Enter 1 if the dm is yes else 0:\"))\n",
    "input_cad_yes=int(input(\"Enter 1 if the cad is yes else 0:\"))\n",
    "input_appet_yes=int(input(\"Enter 1 if the appet is yes else 0:\"))\n",
    "input_pe_yes=int(input(\"Enter 1 if the pe is yes else 0:\"))\n",
    "input_ane_yes=int(input(\"Enter 1 if the ane is yes else 0:\"))\n",
    "\n",
    "# Preprocessing the user input\n",
    "user_input=[[input_age,input_bp,input_al,input_su,input_bgr,input_bu,input_sc,input_sod,input_pot,input_hrmo,input_pcv,input_wc,input_rc,input_sg_b,input_sg_c,input_sg_d,input_sg_e,input_rbc_normal,input_pc_normal,input_pcc_present,input_ba_present,input_htn_yes,input_dm_yes,input_cad_yes,input_appet_yes,input_pe_yes,input_ane_yes]]\n",
    "preprocessed_user_input=sc_X.transform(user_input)\n",
    "\n",
    "# Prediction\n",
    "result=loaded_model.predict(preprocessed_user_input)\n",
    "if(result==1):\n",
    "    print(\"The person have chronic kidney disease\")\n",
    "else:\n",
    "    print(\"The person not have chronic kidney disease\")\n"
   ]
  },
  {
   "cell_type": "code",
   "execution_count": null,
   "id": "a3f481b6-8ef1-43ba-9e9e-223732d5a74d",
   "metadata": {},
   "outputs": [],
   "source": []
  }
 ],
 "metadata": {
  "kernelspec": {
   "display_name": "Python 3 (ipykernel)",
   "language": "python",
   "name": "python3"
  },
  "language_info": {
   "codemirror_mode": {
    "name": "ipython",
    "version": 3
   },
   "file_extension": ".py",
   "mimetype": "text/x-python",
   "name": "python",
   "nbconvert_exporter": "python",
   "pygments_lexer": "ipython3",
   "version": "3.11.7"
  }
 },
 "nbformat": 4,
 "nbformat_minor": 5
}
